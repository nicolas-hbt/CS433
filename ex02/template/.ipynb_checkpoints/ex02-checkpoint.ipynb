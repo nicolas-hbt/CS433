{
 "cells": [
  {
   "cell_type": "code",
   "execution_count": 1,
   "metadata": {},
   "outputs": [],
   "source": [
    "# Useful starting lines\n",
    "%matplotlib inline\n",
    "import numpy as np\n",
    "import matplotlib.pyplot as plt\n",
    "%load_ext autoreload\n",
    "%autoreload 2"
   ]
  },
  {
   "cell_type": "markdown",
   "metadata": {},
   "source": [
    "# Load the data"
   ]
  },
  {
   "cell_type": "code",
   "execution_count": 2,
   "metadata": {},
   "outputs": [],
   "source": [
    "import datetime\n",
    "from helpers import *\n",
    "\n",
    "height, weight, gender = load_data(sub_sample=False, add_outlier=False)\n",
    "x, mean_x, std_x = standardize(height)\n",
    "y, tx = build_model_data(x, weight)"
   ]
  },
  {
   "cell_type": "code",
   "execution_count": 3,
   "metadata": {},
   "outputs": [
    {
     "data": {
      "text/plain": [
       "((10000,), (10000, 2))"
      ]
     },
     "execution_count": 3,
     "metadata": {},
     "output_type": "execute_result"
    }
   ],
   "source": [
    "y.shape, tx.shape"
   ]
  },
  {
   "cell_type": "markdown",
   "metadata": {},
   "source": [
    "# 1 Computing the Cost Function"
   ]
  },
  {
   "cell_type": "markdown",
   "metadata": {},
   "source": [
    "Fill in the `compute_loss` function below:\n",
    "<a id='compute_loss'></a>\n"
   ]
  },
  {
   "cell_type": "code",
   "execution_count": 32,
   "metadata": {},
   "outputs": [],
   "source": [
    "def compute_loss(y, tx, w, loss_type='mse'):\n",
    "    \"\"\"Calculate the loss.\n",
    "\n",
    "    You can calculate the loss using mse or mae.\n",
    "    \"\"\"\n",
    "    e = y - tx.dot(w)\n",
    "    if loss_type == 'mse':  \n",
    "        return 1/2*np.mean(e**2)\n",
    "    elif loss_type == 'mae':\n",
    "        return np.mean(np.abs(e))\n",
    "    else :\n",
    "        print('Error in the loss function.')"
   ]
  },
  {
   "cell_type": "markdown",
   "metadata": {},
   "source": [
    "# 2 Grid Search\n",
    "\n",
    "Fill in the function `grid_search()` below:"
   ]
  },
  {
   "cell_type": "code",
   "execution_count": 33,
   "metadata": {},
   "outputs": [
    {
     "data": {
      "text/plain": [
       "array([2, 3])"
      ]
     },
     "execution_count": 33,
     "metadata": {},
     "output_type": "execute_result"
    }
   ],
   "source": [
    "np.array([2, 3])"
   ]
  },
  {
   "cell_type": "code",
   "execution_count": 34,
   "metadata": {},
   "outputs": [],
   "source": [
    "def grid_search(y, tx, w0, w1):\n",
    "    \"\"\"Algorithm for grid search.\"\"\"\n",
    "    losses = np.zeros((len(w0), len(w1)))\n",
    "    # ***************************************************\n",
    "    # INSERT YOUR CODE HERE\n",
    "    # TODO: compute loss for each combination of w0 and w1.\n",
    "    # ***************************************************\n",
    "    for idx_w0, w0_val in enumerate(w0):\n",
    "        for idx_w1, w1_val in enumerate(w1):\n",
    "            w = np.array([w0_val, w1_val])\n",
    "            losses[idx_w0, idx_w1] = compute_loss(y, tx, w)\n",
    "    return losses"
   ]
  },
  {
   "cell_type": "markdown",
   "metadata": {},
   "source": [
    "Let us play with the grid search demo now!"
   ]
  },
  {
   "cell_type": "code",
   "execution_count": 35,
   "metadata": {},
   "outputs": [
    {
     "name": "stdout",
     "output_type": "stream",
     "text": [
      "Grid Search: loss*=109.17758755205352, w0*=66.66666666666669, w1*=16.666666666666686, execution time=0.005 seconds\n"
     ]
    },
    {
     "data": {
      "image/png": "[encoded data removed]",
      "text/plain": [
       "<Figure size 720x432 with 3 Axes>"
      ]
     },
     "metadata": {
      "needs_background": "light"
     },
     "output_type": "display_data"
    }
   ],
   "source": [
    "from grid_search import generate_w, get_best_parameters\n",
    "from plots import grid_visualization\n",
    "\n",
    "# Generate the grid of parameters to be swept\n",
    "grid_w0, grid_w1 = generate_w(num_intervals=10)\n",
    "\n",
    "# Start the grid search\n",
    "start_time = datetime.datetime.now()\n",
    "grid_losses = grid_search(y, tx, grid_w0, grid_w1)\n",
    "\n",
    "# Select the best combinaison\n",
    "loss_star, w0_star, w1_star = get_best_parameters(grid_w0, grid_w1, grid_losses)\n",
    "end_time = datetime.datetime.now()\n",
    "execution_time = (end_time - start_time).total_seconds()\n",
    "\n",
    "# Print the results\n",
    "print(\"Grid Search: loss*={l}, w0*={w0}, w1*={w1}, execution time={t:.3f} seconds\".format(\n",
    "      l=loss_star, w0=w0_star, w1=w1_star, t=execution_time))\n",
    "\n",
    "# Plot the results\n",
    "fig = grid_visualization(grid_losses, grid_w0, grid_w1, mean_x, std_x, height, weight)\n",
    "fig.set_size_inches(10.0,6.0)\n",
    "fig.savefig(\"grid_plot\")  # Optional saving"
   ]
  },
  {
   "cell_type": "markdown",
   "metadata": {},
   "source": [
    "# 3 Gradient Descent"
   ]
  },
  {
   "cell_type": "markdown",
   "metadata": {},
   "source": [
    "Again, please fill in the functions `compute_gradient` below:"
   ]
  },
  {
   "cell_type": "code",
   "execution_count": 45,
   "metadata": {},
   "outputs": [],
   "source": [
    "def compute_gradient(y, tx, w, loss_type='mse'):\n",
    "    \"\"\"Compute the gradient.\"\"\"\n",
    "    # ***************************************************\n",
    "    # INSERT YOUR CODE HERE\n",
    "    # TODO: compute gradient and error vector\n",
    "    # ***************************************************\n",
    "    e = y - tx.dot(w)\n",
    "    N = y.shape[0]\n",
    "    if loss_type == 'mse':     \n",
    "        return -(1/N)*np.dot(tx.T, e)\n",
    "    elif loss_type == 'mae':\n",
    "        return -(1/N)*np.dot(tx.T, np.sign(e))"
   ]
  },
  {
   "cell_type": "markdown",
   "metadata": {},
   "source": [
    "Please fill in the functions `gradient_descent` below:"
   ]
  },
  {
   "cell_type": "code",
   "execution_count": 37,
   "metadata": {},
   "outputs": [],
   "source": [
    "def gradient_descent(y, tx, initial_w, max_iters, gamma):\n",
    "    \"\"\"Gradient descent algorithm.\"\"\"\n",
    "    # Define parameters to store w and loss\n",
    "    ws = [initial_w]\n",
    "    losses = []\n",
    "    w = initial_w\n",
    "    for n_iter in range(max_iters):\n",
    "        # ***************************************************\n",
    "        # INSERT YOUR CODE HERE\n",
    "        # TODO: compute gradient and loss\n",
    "        # ***************************************************\n",
    "        loss = compute_loss(y, tx, w)\n",
    "        grad = compute_gradient(y, tx, w)\n",
    "        # ***************************************************\n",
    "        # INSERT YOUR CODE HERE\n",
    "        # TODO: update w by gradient\n",
    "        # ***************************************************\n",
    "        w = w - gamma*grad\n",
    "        # store w and loss\n",
    "        ws.append(w)\n",
    "        losses.append(loss)\n",
    "        print(\"Gradient Descent({bi}/{ti}): loss={l}, w0={w0}, w1={w1}\".format(\n",
    "              bi=n_iter, ti=max_iters - 1, l=loss, w0=w[0], w1=w[1]))\n",
    "\n",
    "    return losses, ws"
   ]
  },
  {
   "cell_type": "markdown",
   "metadata": {},
   "source": [
    "Test your gradient descent function through gradient descent demo shown below:"
   ]
  },
  {
   "cell_type": "code",
   "execution_count": 38,
   "metadata": {},
   "outputs": [
    {
     "name": "stdout",
     "output_type": "stream",
     "text": [
      "Gradient Descent(0/49): loss=2869.8351145358524, w0=51.84746409844845, w1=7.724426406192437\n",
      "Gradient Descent(1/49): loss=318.28212470159576, w0=67.401703327983, w1=10.04175432805012\n",
      "Gradient Descent(2/49): loss=88.6423556165126, w0=72.06797509684336, w1=10.736952704607411\n",
      "Gradient Descent(3/49): loss=67.9747763988552, w0=73.46785662750146, w1=10.945512217574597\n",
      "Gradient Descent(4/49): loss=66.11469426926604, w0=73.88782108669889, w1=11.00808007146475\n",
      "Gradient Descent(5/49): loss=65.94728687760302, w0=74.01381042445813, w1=11.026850427631796\n",
      "Gradient Descent(6/49): loss=65.93222021235334, w0=74.05160722578589, w1=11.03248153448191\n",
      "Gradient Descent(7/49): loss=65.93086421248087, w0=74.06294626618423, w1=11.034170866536943\n",
      "Gradient Descent(8/49): loss=65.93074217249236, w0=74.06634797830372, w1=11.034677666153454\n",
      "Gradient Descent(9/49): loss=65.93073118889338, w0=74.06736849193958, w1=11.034829706038408\n",
      "Gradient Descent(10/49): loss=65.93073020036948, w0=74.06767464603033, w1=11.034875318003893\n",
      "Gradient Descent(11/49): loss=65.93073011140233, w0=74.06776649225755, w1=11.03488900159354\n",
      "Gradient Descent(12/49): loss=65.93073010339529, w0=74.06779404612573, w1=11.034893106670433\n",
      "Gradient Descent(13/49): loss=65.93073010267464, w0=74.06780231228618, w1=11.034894338193501\n",
      "Gradient Descent(14/49): loss=65.93073010260979, w0=74.06780479213431, w1=11.034894707650421\n",
      "Gradient Descent(15/49): loss=65.93073010260395, w0=74.06780553608874, w1=11.034894818487498\n",
      "Gradient Descent(16/49): loss=65.93073010260343, w0=74.06780575927507, w1=11.03489485173862\n",
      "Gradient Descent(17/49): loss=65.93073010260338, w0=74.06780582623098, w1=11.034894861713957\n",
      "Gradient Descent(18/49): loss=65.93073010260338, w0=74.06780584631775, w1=11.034894864706558\n",
      "Gradient Descent(19/49): loss=65.93073010260339, w0=74.06780585234378, w1=11.034894865604338\n",
      "Gradient Descent(20/49): loss=65.93073010260338, w0=74.06780585415159, w1=11.034894865873673\n",
      "Gradient Descent(21/49): loss=65.93073010260338, w0=74.06780585469393, w1=11.034894865954472\n",
      "Gradient Descent(22/49): loss=65.93073010260338, w0=74.06780585485663, w1=11.034894865978712\n",
      "Gradient Descent(23/49): loss=65.93073010260336, w0=74.06780585490544, w1=11.034894865985985\n",
      "Gradient Descent(24/49): loss=65.93073010260338, w0=74.06780585492008, w1=11.034894865988168\n",
      "Gradient Descent(25/49): loss=65.93073010260338, w0=74.06780585492449, w1=11.03489486598882\n",
      "Gradient Descent(26/49): loss=65.93073010260336, w0=74.06780585492581, w1=11.034894865989017\n",
      "Gradient Descent(27/49): loss=65.93073010260336, w0=74.06780585492619, w1=11.034894865989077\n",
      "Gradient Descent(28/49): loss=65.93073010260338, w0=74.06780585492632, w1=11.034894865989095\n",
      "Gradient Descent(29/49): loss=65.93073010260338, w0=74.06780585492635, w1=11.0348948659891\n",
      "Gradient Descent(30/49): loss=65.93073010260338, w0=74.06780585492636, w1=11.0348948659891\n",
      "Gradient Descent(31/49): loss=65.93073010260339, w0=74.06780585492636, w1=11.0348948659891\n",
      "Gradient Descent(32/49): loss=65.93073010260339, w0=74.06780585492636, w1=11.0348948659891\n",
      "Gradient Descent(33/49): loss=65.93073010260339, w0=74.06780585492636, w1=11.0348948659891\n",
      "Gradient Descent(34/49): loss=65.93073010260339, w0=74.06780585492636, w1=11.0348948659891\n",
      "Gradient Descent(35/49): loss=65.93073010260339, w0=74.06780585492636, w1=11.0348948659891\n",
      "Gradient Descent(36/49): loss=65.93073010260339, w0=74.06780585492636, w1=11.0348948659891\n",
      "Gradient Descent(37/49): loss=65.93073010260339, w0=74.06780585492636, w1=11.0348948659891\n",
      "Gradient Descent(38/49): loss=65.93073010260339, w0=74.06780585492636, w1=11.0348948659891\n",
      "Gradient Descent(39/49): loss=65.93073010260339, w0=74.06780585492636, w1=11.0348948659891\n",
      "Gradient Descent(40/49): loss=65.93073010260339, w0=74.06780585492636, w1=11.0348948659891\n",
      "Gradient Descent(41/49): loss=65.93073010260339, w0=74.06780585492636, w1=11.0348948659891\n",
      "Gradient Descent(42/49): loss=65.93073010260339, w0=74.06780585492636, w1=11.0348948659891\n",
      "Gradient Descent(43/49): loss=65.93073010260339, w0=74.06780585492636, w1=11.0348948659891\n",
      "Gradient Descent(44/49): loss=65.93073010260339, w0=74.06780585492636, w1=11.0348948659891\n",
      "Gradient Descent(45/49): loss=65.93073010260339, w0=74.06780585492636, w1=11.0348948659891\n",
      "Gradient Descent(46/49): loss=65.93073010260339, w0=74.06780585492636, w1=11.0348948659891\n",
      "Gradient Descent(47/49): loss=65.93073010260339, w0=74.06780585492636, w1=11.0348948659891\n",
      "Gradient Descent(48/49): loss=65.93073010260339, w0=74.06780585492636, w1=11.0348948659891\n",
      "Gradient Descent(49/49): loss=65.93073010260339, w0=74.06780585492636, w1=11.0348948659891\n",
      "Gradient Descent: execution time=0.036 seconds\n"
     ]
    }
   ],
   "source": [
    "# from gradient_descent import *\n",
    "from plots import gradient_descent_visualization\n",
    "\n",
    "# Define the parameters of the algorithm.\n",
    "max_iters = 50\n",
    "gamma = 0.7\n",
    "\n",
    "# Initialization\n",
    "w_initial = np.array([0, 0])\n",
    "\n",
    "# Start gradient descent.\n",
    "start_time = datetime.datetime.now()\n",
    "gradient_losses, gradient_ws = gradient_descent(y, tx, w_initial, max_iters, gamma)\n",
    "end_time = datetime.datetime.now()\n",
    "\n",
    "# Print result\n",
    "exection_time = (end_time - start_time).total_seconds()\n",
    "print(\"Gradient Descent: execution time={t:.3f} seconds\".format(t=exection_time))"
   ]
  },
  {
   "cell_type": "code",
   "execution_count": 39,
   "metadata": {},
   "outputs": [
    {
     "data": {
      "application/vnd.jupyter.widget-view+json": {
       "model_id": "1f0abb05684a422e99fdebf2aa9815b8",
       "version_major": 2,
       "version_minor": 0
      },
      "text/plain": [
       "interactive(children=(IntSlider(value=1, description='n_iter', max=51, min=1), Output()), _dom_classes=('widge…"
      ]
     },
     "metadata": {},
     "output_type": "display_data"
    },
    {
     "data": {
      "text/plain": [
       "<function __main__.plot_figure(n_iter)>"
      ]
     },
     "execution_count": 39,
     "metadata": {},
     "output_type": "execute_result"
    }
   ],
   "source": [
    "# Time Visualization\n",
    "from ipywidgets import IntSlider, interact\n",
    "\n",
    "def plot_figure(n_iter):\n",
    "    fig = gradient_descent_visualization(\n",
    "        gradient_losses, gradient_ws, grid_losses, grid_w0, grid_w1, mean_x, std_x, height, weight, n_iter)\n",
    "    fig.set_size_inches(10.0, 6.0)\n",
    "\n",
    "interact(plot_figure, n_iter=IntSlider(min=1, max=len(gradient_ws)))"
   ]
  },
  {
   "cell_type": "markdown",
   "metadata": {},
   "source": [
    "# 4 Stochastic gradient descent"
   ]
  },
  {
   "cell_type": "code",
   "execution_count": 40,
   "metadata": {},
   "outputs": [],
   "source": [
    "def compute_stoch_gradient(y, tx, w):\n",
    "    \"\"\"Compute a stochastic gradient from just few examples n and their corresponding y_n labels.\"\"\"\n",
    "    # ***************************************************\n",
    "    # INSERT YOUR CODE HERE\n",
    "    # TODO: implement stochastic gradient computation. It's same as the gradient descent.\n",
    "    # ***************************************************\n",
    "    grad = compute_gradient(y, tx, w)\n",
    "    return grad\n",
    "\n",
    "\n",
    "def stochastic_gradient_descent(\n",
    "        y, tx, initial_w, batch_size, max_iters, gamma):\n",
    "    \"\"\"Stochastic gradient descent algorithm.\"\"\"\n",
    "    # ***************************************************\n",
    "    # INSERT YOUR CODE HERE\n",
    "    # TODO: implement stochastic gradient descent.\n",
    "    # ***************************************************\n",
    "    ws = [initial_w]\n",
    "    losses = []\n",
    "    w = initial_w\n",
    "    for n_iter in range(max_iters):\n",
    "        for y_batch, tx_batch in batch_iter(y, tx, batch_size=batch_size, num_batches=1):\n",
    "            loss = compute_loss(y, tx, w)\n",
    "            grad = compute_stoch_gradient(y_batch, tx_batch, w)\n",
    "            w = w - gamma*grad\n",
    "            ws.append(w)\n",
    "            losses.append(loss)\n",
    "            print(\"Stochastic Gradient Descent({bi}/{ti}): loss={l}, w0={w0}, w1={w1}\".format(\n",
    "                  bi=n_iter, ti=max_iters - 1, l=loss, w0=w[0], w1=w[1]))\n",
    "\n",
    "    return losses, ws"
   ]
  },
  {
   "cell_type": "code",
   "execution_count": 41,
   "metadata": {},
   "outputs": [
    {
     "name": "stdout",
     "output_type": "stream",
     "text": [
      "Stochastic Gradient Descent(0/49): loss=2869.8351145358524, w0=45.33087820566734, w1=-37.83914353362461\n",
      "Stochastic Gradient Descent(1/49): loss=1673.1720502054368, w0=45.99950628984386, w1=-38.18866478669423\n",
      "Stochastic Gradient Descent(2/49): loss=1671.324862780848, w0=47.631750206616296, w1=-38.757680929781095\n",
      "Stochastic Gradient Descent(3/49): loss=1655.0135514116384, w0=42.12099633944463, w1=-34.627505331637096\n",
      "Stochastic Gradient Descent(4/49): loss=1618.7574451159285, w0=98.86155513769077, w1=17.487052348142647\n",
      "Stochastic Gradient Descent(5/49): loss=394.11089993814875, w0=77.36253563432928, w1=29.3202398442145\n",
      "Stochastic Gradient Descent(6/49): loss=238.53527274860204, w0=66.76137934118182, w1=31.135942491441188\n",
      "Stochastic Gradient Descent(7/49): loss=294.6487221233243, w0=60.23671899045029, w1=23.72421052347655\n",
      "Stochastic Gradient Descent(8/49): loss=242.08957795662255, w0=68.50745660980786, w1=24.340502712064072\n",
      "Stochastic Gradient Descent(9/49): loss=169.9090720432142, w0=69.64292949903412, w1=23.944665792490916\n",
      "Stochastic Gradient Descent(10/49): loss=159.0515881724462, w0=81.41537215900378, w1=17.226674763204905\n",
      "Stochastic Gradient Descent(11/49): loss=112.09316454679322, w0=81.2072690628474, w1=17.29831571513866\n",
      "Stochastic Gradient Descent(12/49): loss=111.03191791801319, w0=79.47448937112748, w1=15.959230866926838\n",
      "Stochastic Gradient Descent(13/49): loss=92.67138594984952, w0=74.94065308430437, w1=10.264911821837986\n",
      "Stochastic Gradient Descent(14/49): loss=66.60809818965991, w0=67.40368881430713, w1=14.413301535337567\n",
      "Stochastic Gradient Descent(15/49): loss=93.84277387988827, w0=75.65162077470886, w1=9.747608518153054\n",
      "Stochastic Gradient Descent(16/49): loss=68.01351802332873, w0=72.92051853273442, w1=10.177461057610975\n",
      "Stochastic Gradient Descent(17/49): loss=66.95646057030947, w0=87.29896358458562, w1=33.28834578321835\n",
      "Stochastic Gradient Descent(18/49): loss=401.0705363989303, w0=78.26410625538527, w1=28.797156326931727\n",
      "Stochastic Gradient Descent(19/49): loss=232.48416473149308, w0=67.80391745513523, w1=19.141696249803797\n",
      "Stochastic Gradient Descent(20/49): loss=118.40899338343222, w0=75.05189301559204, w1=21.890581086119244\n",
      "Stochastic Gradient Descent(21/49): loss=125.33790552745863, w0=73.51063411466708, w1=21.295790670417773\n",
      "Stochastic Gradient Descent(22/49): loss=118.72894163134615, w0=73.07647734548854, w1=21.03063433257974\n",
      "Stochastic Gradient Descent(23/49): loss=116.37949995139434, w0=63.56172646566274, w1=13.576581350977929\n",
      "Stochastic Gradient Descent(24/49): loss=124.3496672633458, w0=72.109335244038, w1=13.180594963168952\n",
      "Stochastic Gradient Descent(25/49): loss=70.15054812297892, w0=68.66411240335127, w1=15.263672296462346\n",
      "Stochastic Gradient Descent(26/49): loss=89.47196084014111, w0=77.41959519888022, w1=17.71951759722694\n",
      "Stochastic Gradient Descent(27/49): loss=93.89006653521551, w0=75.95618726721143, w1=18.484505168245366\n",
      "Stochastic Gradient Descent(28/49): loss=95.46206910947662, w0=78.80695955566985, w1=19.617186104435067\n",
      "Stochastic Gradient Descent(29/49): loss=113.98838045299196, w0=74.13673097214037, w1=25.19503263040197\n",
      "Stochastic Gradient Descent(30/49): loss=166.18785619207063, w0=75.38059309161821, w1=24.572502858300577\n",
      "Stochastic Gradient Descent(31/49): loss=158.42585034376165, w0=77.72142122688147, w1=25.73611864735078\n",
      "Stochastic Gradient Descent(32/49): loss=180.66817308053388, w0=58.157188447818314, w1=-1.0427069986374988\n",
      "Stochastic Gradient Descent(33/49): loss=265.43883664050446, w0=68.50282828931229, w1=-1.5554200508357656\n",
      "Stochastic Gradient Descent(34/49): loss=160.6732326079088, w0=82.21913187777109, w1=7.587125790172907\n",
      "Stochastic Gradient Descent(35/49): loss=105.09634386803337, w0=66.54713349063675, w1=27.486798525559983\n",
      "Stochastic Gradient Descent(36/49): loss=229.54355351999888, w0=63.29694409345614, w1=28.04347152700074\n",
      "Stochastic Gradient Descent(37/49): loss=268.5823016617088, w0=79.05272825238742, w1=8.037410991062966\n",
      "Stochastic Gradient Descent(38/49): loss=82.84791054717891, w0=68.05077087488536, w1=15.974816077368622\n",
      "Stochastic Gradient Descent(39/49): loss=96.23449586544054, w0=76.38193609993722, w1=9.700393714263871\n",
      "Stochastic Gradient Descent(40/49): loss=69.49877616001835, w0=67.53024062403648, w1=14.898554216074562\n",
      "Stochastic Gradient Descent(41/49): loss=94.76454146342492, w0=73.93353638118079, w1=15.038582097945417\n",
      "Stochastic Gradient Descent(42/49): loss=73.95449997405834, w0=73.60679181868964, w1=14.878144626472203\n",
      "Stochastic Gradient Descent(43/49): loss=73.42228143413371, w0=69.99012886756707, w1=15.295684775874664\n",
      "Stochastic Gradient Descent(44/49): loss=83.32162023731448, w0=70.66261605582335, w1=14.214006028843217\n",
      "Stochastic Gradient Descent(45/49): loss=76.7817627794528, w0=67.68426675126425, w1=13.368321333865836\n",
      "Stochastic Gradient Descent(46/49): loss=89.02795538708891, w0=67.73007542153186, w1=13.314747546259762\n",
      "Stochastic Gradient Descent(47/49): loss=88.61300774765942, w0=73.42987475766488, w1=8.556941526833667\n",
      "Stochastic Gradient Descent(48/49): loss=69.20433452054579, w0=64.53232105353995, w1=12.007669382255965\n",
      "Stochastic Gradient Descent(49/49): loss=111.8666104310882, w0=66.28371163274205, w1=12.504966393553993\n",
      "SGD: execution time=0.037 seconds\n"
     ]
    }
   ],
   "source": [
    "# from stochastic_gradient_descent import *\n",
    "\n",
    "# Define the parameters of the algorithm.\n",
    "max_iters = 50\n",
    "gamma = 0.7\n",
    "batch_size = 1\n",
    "\n",
    "# Initialization\n",
    "w_initial = np.array([0, 0])\n",
    "\n",
    "# Start SGD.\n",
    "start_time = datetime.datetime.now()\n",
    "sgd_losses, sgd_ws = stochastic_gradient_descent(\n",
    "    y, tx, w_initial, batch_size, max_iters, gamma)\n",
    "end_time = datetime.datetime.now()\n",
    "\n",
    "# Print result\n",
    "exection_time = (end_time - start_time).total_seconds()\n",
    "print(\"SGD: execution time={t:.3f} seconds\".format(t=exection_time))"
   ]
  },
  {
   "cell_type": "code",
   "execution_count": 42,
   "metadata": {},
   "outputs": [
    {
     "data": {
      "application/vnd.jupyter.widget-view+json": {
       "model_id": "3dc5fef9ff64405798df6256b5ac9713",
       "version_major": 2,
       "version_minor": 0
      },
      "text/plain": [
       "interactive(children=(IntSlider(value=1, description='n_iter', max=51, min=1), Output()), _dom_classes=('widge…"
      ]
     },
     "metadata": {},
     "output_type": "display_data"
    },
    {
     "data": {
      "text/plain": [
       "<function __main__.plot_figure(n_iter)>"
      ]
     },
     "execution_count": 42,
     "metadata": {},
     "output_type": "execute_result"
    }
   ],
   "source": [
    "# Time Visualization\n",
    "from ipywidgets import IntSlider, interact\n",
    "def plot_figure(n_iter):\n",
    "    fig = gradient_descent_visualization(\n",
    "        sgd_losses, sgd_ws, grid_losses, grid_w0, grid_w1, mean_x, std_x, height, weight, n_iter)\n",
    "    fig.set_size_inches(10.0, 6.0)\n",
    "\n",
    "interact(plot_figure, n_iter=IntSlider(min=1, max=len(gradient_ws)))"
   ]
  },
  {
   "cell_type": "markdown",
   "metadata": {},
   "source": [
    "# 5 Effect of Outliers and MAE Cost Function, and Subgradient Descent"
   ]
  },
  {
   "cell_type": "markdown",
   "metadata": {},
   "source": [
    "### Exercise 5\n",
    "\n",
    "Load and plot data containing outliers"
   ]
  },
  {
   "cell_type": "code",
   "execution_count": 43,
   "metadata": {},
   "outputs": [
    {
     "name": "stdout",
     "output_type": "stream",
     "text": [
      "Grid Search: loss*=40.30342362683201, w0*=66.66666666666669, w1*=16.666666666666686, execution time=0.004 seconds\n"
     ]
    },
    {
     "data": {
      "image/png": "[encoded data removed]",
      "text/plain": [
       "<Figure size 720x432 with 3 Axes>"
      ]
     },
     "metadata": {
      "needs_background": "light"
     },
     "output_type": "display_data"
    }
   ],
   "source": [
    "height, weight, gender = load_data(sub_sample=True, add_outlier=False)\n",
    "x, mean_x, std_x = standardize(height)\n",
    "y, tx = build_model_data(x, weight)\n",
    "\n",
    "# Generate the grid of parameters to be swept\n",
    "grid_w0, grid_w1 = generate_w(num_intervals=10)\n",
    "\n",
    "# Start the grid search\n",
    "start_time = datetime.datetime.now()\n",
    "grid_losses = grid_search(y, tx, grid_w0, grid_w1)\n",
    "\n",
    "# Select the best combinaison\n",
    "loss_star, w0_star, w1_star = get_best_parameters(grid_w0, grid_w1, grid_losses)\n",
    "end_time = datetime.datetime.now()\n",
    "execution_time = (end_time - start_time).total_seconds()\n",
    "\n",
    "# Print the results\n",
    "print(\"Grid Search: loss*={l}, w0*={w0}, w1*={w1}, execution time={t:.3f} seconds\".format(\n",
    "      l=loss_star, w0=w0_star, w1=w1_star, t=execution_time))\n",
    "\n",
    "# Plot the results\n",
    "fig = grid_visualization(grid_losses, grid_w0, grid_w1, mean_x, std_x, height, weight)\n",
    "fig.set_size_inches(10.0,6.0)"
   ]
  },
  {
   "cell_type": "code",
   "execution_count": 29,
   "metadata": {},
   "outputs": [
    {
     "name": "stdout",
     "output_type": "stream",
     "text": [
      "Grid Search: loss*=109.17758755205352, w0*=66.66666666666669, w1*=16.666666666666686, execution time=0.003 seconds\n"
     ]
    },
    {
     "data": {
      "image/png": "[encoded data removed]",
      "text/plain": [
       "<Figure size 720x432 with 3 Axes>"
      ]
     },
     "metadata": {
      "needs_background": "light"
     },
     "output_type": "display_data"
    }
   ],
   "source": [
    "height, weight, gender = load_data(sub_sample=True, add_outlier=True)\n",
    "x, mean_x, std_x = standardize(height)\n",
    "y, tx = build_model_data(x, weight)\n",
    "\n",
    "# Generate the grid of parameters to be swept\n",
    "grid_w0, grid_w1 = generate_w(num_intervals=10)\n",
    "\n",
    "# Start the grid search\n",
    "start_time = datetime.datetime.now()\n",
    "grid_losses = grid_search(y, tx, grid_w0, grid_w1)\n",
    "\n",
    "# Select the best combinaison\n",
    "loss_star, w0_star, w1_star = get_best_parameters(grid_w0, grid_w1, grid_losses)\n",
    "end_time = datetime.datetime.now()\n",
    "execution_time = (end_time - start_time).total_seconds()\n",
    "\n",
    "# Print the results\n",
    "print(\"Grid Search: loss*={l}, w0*={w0}, w1*={w1}, execution time={t:.3f} seconds\".format(\n",
    "      l=loss_star, w0=w0_star, w1=w1_star, t=execution_time))\n",
    "\n",
    "# Plot the results\n",
    "fig = grid_visualization(grid_losses, grid_w0, grid_w1, mean_x, std_x, height, weight)\n",
    "fig.set_size_inches(10.0,6.0)"
   ]
  },
  {
   "cell_type": "markdown",
   "metadata": {},
   "source": [
    "### Exercise 6"
   ]
  },
  {
   "cell_type": "markdown",
   "metadata": {},
   "source": [
    "Modify the function `compute_loss(y, tx, w)` for the Mean Absolute Error cost function [here](#compute_loss)"
   ]
  }
 ],
 "metadata": {
  "anaconda-cloud": {},
  "kernelspec": {
   "display_name": "Python 3",
   "language": "python",
   "name": "python3"
  },
  "language_info": {
   "codemirror_mode": {
    "name": "ipython",
    "version": 3
   },
   "file_extension": ".py",
   "mimetype": "text/x-python",
   "name": "python",
   "nbconvert_exporter": "python",
   "pygments_lexer": "ipython3",
   "version": "3.7.3"
  }
 },
 "nbformat": 4,
 "nbformat_minor": 1
}
